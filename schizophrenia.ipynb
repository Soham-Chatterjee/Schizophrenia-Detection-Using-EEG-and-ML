{
 "cells": [
  {
   "cell_type": "markdown",
   "id": "cef1266c",
   "metadata": {},
   "source": [
    "# Prediction of schizophrenia in subject through analysis of brain EEG signals"
   ]
  },
  {
   "cell_type": "markdown",
   "id": "d2ba83b9",
   "metadata": {},
   "source": [
    "## Importing the required libraries"
   ]
  },
  {
   "cell_type": "code",
   "execution_count": 26,
   "id": "99321437",
   "metadata": {},
   "outputs": [],
   "source": [
    "import glob\n",
    "import numpy as np\n",
    "import pandas\n",
    "import matplotlib.pyplot as plt\n",
    "import json\n",
    "import mne\n",
    "import os\n",
    "import matplotlib.pyplot as plt\n",
    "from tensorflow.keras.layers import Conv1D, BatchNormalization, LeakyReLU, MaxPool1D, GlobalAveragePooling1D, Dense, Dropout, AveragePooling1D\n",
    "from tensorflow.keras.models import Sequential\n",
    "from tensorflow.keras.backend import clear_session\n",
    "from sklearn.model_selection import GroupKFold, LeaveOneGroupOut\n",
    "from sklearn.preprocessing import StandardScaler"
   ]
  },
  {
   "cell_type": "markdown",
   "id": "4fa60832",
   "metadata": {},
   "source": [
    "## Reading and preparing data for classification - Sayanteka Saha - 21051681"
   ]
  },
  {
   "cell_type": "markdown",
   "id": "ccaf3627",
   "metadata": {},
   "source": [
    "Reading of all files from the dataset. Files are in the format _XX.edf where _ represents h or s - h for healthy subject and s for schizophrenic subject and XX represents the subject number from 01 to 14, for both healthy and schizophrenic subjects"
   ]
  },
  {
   "cell_type": "code",
   "execution_count": 3,
   "id": "cb428f0d",
   "metadata": {},
   "outputs": [
    {
     "name": "stdout",
     "output_type": "stream",
     "text": [
      "28\n"
     ]
    }
   ],
   "source": [
    "all_file_path=glob.glob(\"dataverse_files/*.edf\")\n",
    "print(len(all_file_path))"
   ]
  },
  {
   "cell_type": "markdown",
   "id": "bacafdff",
   "metadata": {},
   "source": [
    "Segregating the healthy and the schizophrenic subjects in two different arrays for better understanding"
   ]
  },
  {
   "cell_type": "code",
   "execution_count": 4,
   "id": "c910e651",
   "metadata": {},
   "outputs": [
    {
     "name": "stdout",
     "output_type": "stream",
     "text": [
      "14 14\n"
     ]
    }
   ],
   "source": [
    "healthy_file_path = [i for i in all_file_path if 'h' in i.split('\\\\')[1]]\n",
    "patient_file_path = [i for i in all_file_path if 's' in i.split('\\\\')[1]]\n",
    "print(len(healthy_file_path),len(patient_file_path))"
   ]
  },
  {
   "cell_type": "markdown",
   "id": "1197d2c2",
   "metadata": {},
   "source": [
    "Creating a function to read the data along with setting the EEG reference (standard 10-20 EEG montage), passing the data through a band pass filter and creating overlapping epochs of 5 seconds duration each"
   ]
  },
  {
   "cell_type": "code",
   "execution_count": 5,
   "id": "b78f3822",
   "metadata": {},
   "outputs": [],
   "source": [
    "def read_data(file_path):\n",
    "    data=mne.io.read_raw_edf(file_path,preload=True)\n",
    "    data.set_eeg_reference()\n",
    "    data.filter(l_freq=0.5, h_freq=45)\n",
    "    epochs=mne.make_fixed_length_epochs(data,duration=5,overlap=1)\n",
    "    array=epochs.get_data()\n",
    "    return array"
   ]
  },
  {
   "cell_type": "markdown",
   "id": "5207514b",
   "metadata": {},
   "source": [
    "Reading a sample data to test the function"
   ]
  },
  {
   "cell_type": "code",
   "execution_count": 6,
   "id": "5b2e01bb",
   "metadata": {},
   "outputs": [
    {
     "name": "stdout",
     "output_type": "stream",
     "text": [
      "Extracting EDF parameters from d:\\KIIT\\6th semester\\Minor Project\\Schizophrenia\\dataverse_files\\h01.edf...\n",
      "EDF file detected\n",
      "Setting channel info structure...\n",
      "Creating raw.info structure...\n",
      "Reading 0 ... 231249  =      0.000 ...   924.996 secs...\n",
      "EEG channel type selected for re-referencing\n",
      "Applying average reference.\n",
      "Applying a custom ('EEG',) reference.\n",
      "Filtering raw data in 1 contiguous segment\n",
      "Setting up band-pass filter from 0.5 - 45 Hz\n",
      "\n",
      "FIR filter parameters\n",
      "---------------------\n",
      "Designing a one-pass, zero-phase, non-causal bandpass filter:\n",
      "- Windowed time-domain design (firwin) method\n",
      "- Hamming window with 0.0194 passband ripple and 53 dB stopband attenuation\n",
      "- Lower passband edge: 0.50\n",
      "- Lower transition bandwidth: 0.50 Hz (-6 dB cutoff frequency: 0.25 Hz)\n",
      "- Upper passband edge: 45.00 Hz\n",
      "- Upper transition bandwidth: 11.25 Hz (-6 dB cutoff frequency: 50.62 Hz)\n",
      "- Filter length: 1651 samples (6.604 s)\n",
      "\n",
      "Not setting metadata\n",
      "231 matching events found\n",
      "No baseline correction applied\n",
      "0 projection items activated\n",
      "Using data from preloaded Raw for 231 events and 1250 original time points ...\n",
      "0 bad epochs dropped\n"
     ]
    },
    {
     "name": "stderr",
     "output_type": "stream",
     "text": [
      "[Parallel(n_jobs=1)]: Using backend SequentialBackend with 1 concurrent workers.\n",
      "[Parallel(n_jobs=1)]: Done   1 out of   1 | elapsed:    0.0s remaining:    0.0s\n",
      "[Parallel(n_jobs=1)]: Done   2 out of   2 | elapsed:    0.0s remaining:    0.0s\n",
      "[Parallel(n_jobs=1)]: Done   3 out of   3 | elapsed:    0.0s remaining:    0.0s\n",
      "[Parallel(n_jobs=1)]: Done   4 out of   4 | elapsed:    0.0s remaining:    0.0s\n",
      "[Parallel(n_jobs=1)]: Done  19 out of  19 | elapsed:    0.0s finished\n"
     ]
    }
   ],
   "source": [
    "sample_data=read_data(healthy_file_path[0])"
   ]
  },
  {
   "cell_type": "code",
   "execution_count": 7,
   "id": "4be98371",
   "metadata": {},
   "outputs": [
    {
     "data": {
      "text/plain": [
       "(231, 19, 1250)"
      ]
     },
     "execution_count": 7,
     "metadata": {},
     "output_type": "execute_result"
    }
   ],
   "source": [
    "sample_data.shape #no of epochs , channels, length of signal"
   ]
  },
  {
   "cell_type": "markdown",
   "id": "21297b0d",
   "metadata": {},
   "source": [
    "Calling the function on all the healthy and the schizophrenic subjects and saving the epochs into two different arrays - control for healthy subjects and patients for schizophrenic subjects"
   ]
  },
  {
   "cell_type": "code",
   "execution_count": 8,
   "id": "b8df4a80",
   "metadata": {},
   "outputs": [],
   "source": [
    "%%capture\n",
    "control_epochs_array=[read_data(i) for i in healthy_file_path] # [(231, 19, 1250), (), ..., 14]\n",
    "patients_epochs_array=[read_data(i) for i in patient_file_path]"
   ]
  },
  {
   "cell_type": "code",
   "execution_count": 9,
   "id": "30bd9176",
   "metadata": {},
   "outputs": [
    {
     "data": {
      "text/plain": [
       "(231, 19, 1250)"
      ]
     },
     "execution_count": 9,
     "metadata": {},
     "output_type": "execute_result"
    }
   ],
   "source": [
    "control_epochs_array[0].shape"
   ]
  },
  {
   "cell_type": "markdown",
   "id": "82272d00",
   "metadata": {},
   "source": [
    "Labelling healthy subjects as 0 and schizophrenic subjects as 1 and storing the labels corresponding to their respective epoch arrays into two different label arrays for healthy and schizophrenic subjects"
   ]
  },
  {
   "cell_type": "code",
   "execution_count": 10,
   "id": "f050a78d",
   "metadata": {},
   "outputs": [
    {
     "data": {
      "text/plain": [
       "(14, 14)"
      ]
     },
     "execution_count": 10,
     "metadata": {},
     "output_type": "execute_result"
    }
   ],
   "source": [
    "control_epoch_label= [len(i) * [0] for i in control_epochs_array] # [[0, 0, ..., 231 times], [0, 0, ..., x times], ... 14 elements]\n",
    "patient_epoch_label= [len(i) * [1] for i in patients_epochs_array] # [[1, 1, ..., x times], [1, 1, ..., y times], ... 14 elements]\n",
    "len(control_epoch_label), len(patient_epoch_label)"
   ]
  },
  {
   "cell_type": "markdown",
   "id": "65fceaad",
   "metadata": {},
   "source": [
    "Concatenating all the epoch data and labels (healthy and schizophrenic) into one single `data_list` and `label_list` respectively"
   ]
  },
  {
   "cell_type": "code",
   "execution_count": 11,
   "id": "0d5f4b10",
   "metadata": {},
   "outputs": [],
   "source": [
    "data_list=control_epochs_array+patients_epochs_array # 28 elements\n",
    "label_list=control_epoch_label+patient_epoch_label # 28 elements"
   ]
  },
  {
   "cell_type": "markdown",
   "id": "b2d33f9c",
   "metadata": {},
   "source": [
    "Assigning groups to the data subject wise and not channel wise to facilitate classification process"
   ]
  },
  {
   "cell_type": "code",
   "execution_count": 12,
   "id": "e5543049",
   "metadata": {},
   "outputs": [
    {
     "data": {
      "text/plain": [
       "28"
      ]
     },
     "execution_count": 12,
     "metadata": {},
     "output_type": "execute_result"
    }
   ],
   "source": [
    "group_list=[[i]*len(j) for i,j in enumerate(data_list)]\n",
    "len(group_list)"
   ]
  },
  {
   "cell_type": "markdown",
   "id": "e491c585",
   "metadata": {},
   "source": [
    "Finally creating the required arrays by using `numpy` stacks to be able to use them for classification"
   ]
  },
  {
   "cell_type": "code",
   "execution_count": 13,
   "id": "b385c156",
   "metadata": {},
   "outputs": [
    {
     "name": "stdout",
     "output_type": "stream",
     "text": [
      "(7201, 19, 1250) (7201,) (7201,)\n"
     ]
    }
   ],
   "source": [
    "data_array=np.vstack(data_list)\n",
    "label_array=np.hstack(label_list)\n",
    "group_array=np.hstack(group_list)\n",
    "print(data_array.shape, label_array.shape,group_array.shape)"
   ]
  },
  {
   "cell_type": "markdown",
   "id": "4aae782a",
   "metadata": {},
   "source": [
    "## Training and testing the Logistic Regression model for classification - Dipanwita Ghosh - 2105193"
   ]
  },
  {
   "cell_type": "markdown",
   "id": "2f8a71e0",
   "metadata": {},
   "source": [
    "### Feature extraction"
   ]
  },
  {
   "cell_type": "markdown",
   "id": "108b18fd",
   "metadata": {},
   "source": [
    "Features extracted from EEG data - mean, standard deviation, peak to peak value, variance, minimum value, maximum value, root mean square, sum of absolute difference between two signals, skewness and kurtosis"
   ]
  },
  {
   "cell_type": "code",
   "execution_count": 18,
   "id": "d54464f0",
   "metadata": {},
   "outputs": [],
   "source": [
    "from scipy import stats\n",
    "def mean(x):\n",
    "    return np.mean(x, axis=-1)\n",
    "def std(x):\n",
    "    return np.std(x,axis=-1)\n",
    "def ptp(x):\n",
    "    return np.ptp(x,axis=-1)\n",
    "def var(x):\n",
    "    return np.var(x,axis=-1)\n",
    "def minim(x):\n",
    "    return np.min(x,axis=-1)\n",
    "def maxim(x):\n",
    "    return np.max(x,axis=-1)\n",
    "def argminim(x):\n",
    "    return np.argmin(x,axis=-1)\n",
    "def argmaxim(x):\n",
    "    return np.argmax(x,axis=-1)\n",
    "def rms(x):\n",
    "    return np.sqrt(np.mean(x**2,axis=-1))\n",
    "def abs_diff_signal(x):\n",
    "    return np.sum(np.abs(np.diff(x,axis=-1)), axis=-1)\n",
    "\n",
    "def skewness(x):\n",
    "    return stats.skew(x,axis=-1)\n",
    "def kurtosis(x):\n",
    "    return stats.kurtosis(x,axis=-1)\n",
    "\n",
    "def concatenate_features(x):\n",
    "    return np.concatenate((mean(x), std(x), ptp(x), var(x), minim(x), maxim(x),argminim(x), argmaxim(x),rms(x), abs_diff_signal(x), skewness(x),kurtosis(x)), axis=-1)\n",
    "\n"
   ]
  },
  {
   "cell_type": "code",
   "execution_count": 19,
   "id": "04a0630f",
   "metadata": {},
   "outputs": [],
   "source": [
    "features=[]\n",
    "for d in data_array:\n",
    "    features.append(concatenate_features(d))"
   ]
  },
  {
   "cell_type": "code",
   "execution_count": 20,
   "id": "e48198f2",
   "metadata": {},
   "outputs": [
    {
     "data": {
      "text/plain": [
       "(7201, 228)"
      ]
     },
     "execution_count": 20,
     "metadata": {},
     "output_type": "execute_result"
    }
   ],
   "source": [
    "features_array = np.array(features)\n",
    "features_array.shape"
   ]
  },
  {
   "cell_type": "markdown",
   "id": "ee907ed8",
   "metadata": {},
   "source": [
    "### Model training"
   ]
  },
  {
   "cell_type": "markdown",
   "id": "585004a0",
   "metadata": {},
   "source": [
    "Using the `LogisticRegression` and `StandardScaler` models from the `scikit-learn` library by creating a pipeline that scales the data and then sends it for classification by the LR model. The arguments used for the classifier are `[0.1, 0.5, 0.7, 1, 3, 5, 7]`.<br>\n",
    "\n",
    "`Grid Search` has been used to extract the best features from the list by trial and error process. Different values for the `param_grid` might result in variable accuracy of the model.\n",
    "\n",
    "`k-fold Cross Validation` has been used to significantly increase the accuracy and efficiency of the model."
   ]
  },
  {
   "cell_type": "code",
   "execution_count": 21,
   "id": "962c4d09",
   "metadata": {},
   "outputs": [],
   "source": [
    "from sklearn.linear_model import LogisticRegression\n",
    "from sklearn.pipeline import Pipeline\n",
    "from sklearn.preprocessing import StandardScaler\n",
    "from sklearn.model_selection import GroupKFold, GridSearchCV\n"
   ]
  },
  {
   "cell_type": "code",
   "execution_count": 89,
   "id": "7c19cb7e",
   "metadata": {},
   "outputs": [
    {
     "name": "stderr",
     "output_type": "stream",
     "text": [
      "C:\\Users\\KIIT\\AppData\\Roaming\\Python\\Python310\\site-packages\\sklearn\\linear_model\\_logistic.py:458: ConvergenceWarning: lbfgs failed to converge (status=1):\n",
      "STOP: TOTAL NO. of ITERATIONS REACHED LIMIT.\n",
      "\n",
      "Increase the number of iterations (max_iter) or scale the data as shown in:\n",
      "    https://scikit-learn.org/stable/modules/preprocessing.html\n",
      "Please also refer to the documentation for alternative solver options:\n",
      "    https://scikit-learn.org/stable/modules/linear_model.html#logistic-regression\n",
      "  n_iter_i = _check_optimize_result(\n"
     ]
    },
    {
     "data": {
      "text/html": [
       "<style>#sk-container-id-2 {color: black;background-color: white;}#sk-container-id-2 pre{padding: 0;}#sk-container-id-2 div.sk-toggleable {background-color: white;}#sk-container-id-2 label.sk-toggleable__label {cursor: pointer;display: block;width: 100%;margin-bottom: 0;padding: 0.3em;box-sizing: border-box;text-align: center;}#sk-container-id-2 label.sk-toggleable__label-arrow:before {content: \"▸\";float: left;margin-right: 0.25em;color: #696969;}#sk-container-id-2 label.sk-toggleable__label-arrow:hover:before {color: black;}#sk-container-id-2 div.sk-estimator:hover label.sk-toggleable__label-arrow:before {color: black;}#sk-container-id-2 div.sk-toggleable__content {max-height: 0;max-width: 0;overflow: hidden;text-align: left;background-color: #f0f8ff;}#sk-container-id-2 div.sk-toggleable__content pre {margin: 0.2em;color: black;border-radius: 0.25em;background-color: #f0f8ff;}#sk-container-id-2 input.sk-toggleable__control:checked~div.sk-toggleable__content {max-height: 200px;max-width: 100%;overflow: auto;}#sk-container-id-2 input.sk-toggleable__control:checked~label.sk-toggleable__label-arrow:before {content: \"▾\";}#sk-container-id-2 div.sk-estimator input.sk-toggleable__control:checked~label.sk-toggleable__label {background-color: #d4ebff;}#sk-container-id-2 div.sk-label input.sk-toggleable__control:checked~label.sk-toggleable__label {background-color: #d4ebff;}#sk-container-id-2 input.sk-hidden--visually {border: 0;clip: rect(1px 1px 1px 1px);clip: rect(1px, 1px, 1px, 1px);height: 1px;margin: -1px;overflow: hidden;padding: 0;position: absolute;width: 1px;}#sk-container-id-2 div.sk-estimator {font-family: monospace;background-color: #f0f8ff;border: 1px dotted black;border-radius: 0.25em;box-sizing: border-box;margin-bottom: 0.5em;}#sk-container-id-2 div.sk-estimator:hover {background-color: #d4ebff;}#sk-container-id-2 div.sk-parallel-item::after {content: \"\";width: 100%;border-bottom: 1px solid gray;flex-grow: 1;}#sk-container-id-2 div.sk-label:hover label.sk-toggleable__label {background-color: #d4ebff;}#sk-container-id-2 div.sk-serial::before {content: \"\";position: absolute;border-left: 1px solid gray;box-sizing: border-box;top: 0;bottom: 0;left: 50%;z-index: 0;}#sk-container-id-2 div.sk-serial {display: flex;flex-direction: column;align-items: center;background-color: white;padding-right: 0.2em;padding-left: 0.2em;position: relative;}#sk-container-id-2 div.sk-item {position: relative;z-index: 1;}#sk-container-id-2 div.sk-parallel {display: flex;align-items: stretch;justify-content: center;background-color: white;position: relative;}#sk-container-id-2 div.sk-item::before, #sk-container-id-2 div.sk-parallel-item::before {content: \"\";position: absolute;border-left: 1px solid gray;box-sizing: border-box;top: 0;bottom: 0;left: 50%;z-index: -1;}#sk-container-id-2 div.sk-parallel-item {display: flex;flex-direction: column;z-index: 1;position: relative;background-color: white;}#sk-container-id-2 div.sk-parallel-item:first-child::after {align-self: flex-end;width: 50%;}#sk-container-id-2 div.sk-parallel-item:last-child::after {align-self: flex-start;width: 50%;}#sk-container-id-2 div.sk-parallel-item:only-child::after {width: 0;}#sk-container-id-2 div.sk-dashed-wrapped {border: 1px dashed gray;margin: 0 0.4em 0.5em 0.4em;box-sizing: border-box;padding-bottom: 0.4em;background-color: white;}#sk-container-id-2 div.sk-label label {font-family: monospace;font-weight: bold;display: inline-block;line-height: 1.2em;}#sk-container-id-2 div.sk-label-container {text-align: center;}#sk-container-id-2 div.sk-container {/* jupyter's `normalize.less` sets `[hidden] { display: none; }` but bootstrap.min.css set `[hidden] { display: none !important; }` so we also need the `!important` here to be able to override the default hidden behavior on the sphinx rendered scikit-learn.org. See: https://github.com/scikit-learn/scikit-learn/issues/21755 */display: inline-block !important;position: relative;}#sk-container-id-2 div.sk-text-repr-fallback {display: none;}</style><div id=\"sk-container-id-2\" class=\"sk-top-container\"><div class=\"sk-text-repr-fallback\"><pre>GridSearchCV(cv=GroupKFold(n_splits=5),\n",
       "             estimator=Pipeline(steps=[(&#x27;scalar&#x27;, StandardScaler()),\n",
       "                                       (&#x27;clf&#x27;, LogisticRegression())]),\n",
       "             n_jobs=12, param_grid={&#x27;clf__C&#x27;: [0.1, 0.5, 0.7, 1, 3, 5, 7]})</pre><b>In a Jupyter environment, please rerun this cell to show the HTML representation or trust the notebook. <br />On GitHub, the HTML representation is unable to render, please try loading this page with nbviewer.org.</b></div><div class=\"sk-container\" hidden><div class=\"sk-item sk-dashed-wrapped\"><div class=\"sk-label-container\"><div class=\"sk-label sk-toggleable\"><input class=\"sk-toggleable__control sk-hidden--visually\" id=\"sk-estimator-id-5\" type=\"checkbox\" ><label for=\"sk-estimator-id-5\" class=\"sk-toggleable__label sk-toggleable__label-arrow\">GridSearchCV</label><div class=\"sk-toggleable__content\"><pre>GridSearchCV(cv=GroupKFold(n_splits=5),\n",
       "             estimator=Pipeline(steps=[(&#x27;scalar&#x27;, StandardScaler()),\n",
       "                                       (&#x27;clf&#x27;, LogisticRegression())]),\n",
       "             n_jobs=12, param_grid={&#x27;clf__C&#x27;: [0.1, 0.5, 0.7, 1, 3, 5, 7]})</pre></div></div></div><div class=\"sk-parallel\"><div class=\"sk-parallel-item\"><div class=\"sk-item\"><div class=\"sk-label-container\"><div class=\"sk-label sk-toggleable\"><input class=\"sk-toggleable__control sk-hidden--visually\" id=\"sk-estimator-id-6\" type=\"checkbox\" ><label for=\"sk-estimator-id-6\" class=\"sk-toggleable__label sk-toggleable__label-arrow\">estimator: Pipeline</label><div class=\"sk-toggleable__content\"><pre>Pipeline(steps=[(&#x27;scalar&#x27;, StandardScaler()), (&#x27;clf&#x27;, LogisticRegression())])</pre></div></div></div><div class=\"sk-serial\"><div class=\"sk-item\"><div class=\"sk-serial\"><div class=\"sk-item\"><div class=\"sk-estimator sk-toggleable\"><input class=\"sk-toggleable__control sk-hidden--visually\" id=\"sk-estimator-id-7\" type=\"checkbox\" ><label for=\"sk-estimator-id-7\" class=\"sk-toggleable__label sk-toggleable__label-arrow\">StandardScaler</label><div class=\"sk-toggleable__content\"><pre>StandardScaler()</pre></div></div></div><div class=\"sk-item\"><div class=\"sk-estimator sk-toggleable\"><input class=\"sk-toggleable__control sk-hidden--visually\" id=\"sk-estimator-id-8\" type=\"checkbox\" ><label for=\"sk-estimator-id-8\" class=\"sk-toggleable__label sk-toggleable__label-arrow\">LogisticRegression</label><div class=\"sk-toggleable__content\"><pre>LogisticRegression()</pre></div></div></div></div></div></div></div></div></div></div></div></div>"
      ],
      "text/plain": [
       "GridSearchCV(cv=GroupKFold(n_splits=5),\n",
       "             estimator=Pipeline(steps=[('scalar', StandardScaler()),\n",
       "                                       ('clf', LogisticRegression())]),\n",
       "             n_jobs=12, param_grid={'clf__C': [0.1, 0.5, 0.7, 1, 3, 5, 7]})"
      ]
     },
     "execution_count": 89,
     "metadata": {},
     "output_type": "execute_result"
    }
   ],
   "source": [
    "clf = LogisticRegression()\n",
    "gkf = GroupKFold(5)\n",
    "pipe = Pipeline([('scalar', StandardScaler()),('clf',clf)])\n",
    "param_grid ={'clf__C':[0.1,0.5,0.7,1,3,5,7]}\n",
    "gscv = GridSearchCV(pipe, param_grid, cv=gkf, n_jobs=12)\n",
    "gscv.fit(features_array, label_array, groups=group_array)"
   ]
  },
  {
   "cell_type": "markdown",
   "id": "81d6be7c",
   "metadata": {},
   "source": [
    "Best accuracy score that has been obtained with the given parameters is `66.03%`"
   ]
  },
  {
   "cell_type": "code",
   "execution_count": 90,
   "id": "67ea5078",
   "metadata": {},
   "outputs": [
    {
     "data": {
      "text/plain": [
       "0.663034159305596"
      ]
     },
     "execution_count": 90,
     "metadata": {},
     "output_type": "execute_result"
    }
   ],
   "source": [
    "gscv.best_score_"
   ]
  },
  {
   "cell_type": "markdown",
   "id": "62dc5ab0",
   "metadata": {},
   "source": [
    "## Deep 1D Convolutional Neural Network for classification - Soham Chatterjee - 2105164"
   ]
  },
  {
   "cell_type": "code",
   "execution_count": 14,
   "id": "0a6c47ac",
   "metadata": {},
   "outputs": [],
   "source": [
    "data_list = np.vstack(data_list)\n",
    "label_list = np.hstack(label_list)\n",
    "groups_array = np.hstack(group_list)"
   ]
  },
  {
   "cell_type": "code",
   "execution_count": 15,
   "id": "c25cc291",
   "metadata": {},
   "outputs": [
    {
     "data": {
      "text/plain": [
       "((7201, 19, 1250), (7201,), (7201,))"
      ]
     },
     "execution_count": 15,
     "metadata": {},
     "output_type": "execute_result"
    }
   ],
   "source": [
    "data_list.shape, label_list.shape, groups_array.shape"
   ]
  },
  {
   "cell_type": "code",
   "execution_count": 16,
   "id": "8bfdf4f5",
   "metadata": {},
   "outputs": [
    {
     "data": {
      "text/plain": [
       "(7201, 1250, 19)"
      ]
     },
     "execution_count": 16,
     "metadata": {},
     "output_type": "execute_result"
    }
   ],
   "source": [
    "data_list = np.moveaxis(data_list, 1, 2)\n",
    "data_list.shape"
   ]
  },
  {
   "cell_type": "markdown",
   "id": "44c8be34",
   "metadata": {},
   "source": [
    "### Model Training"
   ]
  },
  {
   "cell_type": "markdown",
   "id": "79e79db0",
   "metadata": {},
   "source": [
    "CNN model architecture contains a total of 13 layers with 11 hidden layers, 1 input layer and 1 output layer (the output layer uses `sigmoid` activation).\n",
    "\n",
    "`Batch Normalization` has been done on the input layer to normalize the data being fed to the neural network\n",
    "\n",
    "The layers of the model in their respective order are:\n",
    "\n",
    "`Conv1D + Batch Normalization + ReLU` -> `MaxPool1D `-> `Conv1D + ReLU` -> `MaxPool1D + Dropout` -> `Conv1D + ReLU` -> `MaxPool1D + Dropout` -> `Conv1D + ReLU `-> `AveragePooling1D + Dropout` -> `Conv1D + ReLU` -> `AveragePooling1D` -> `Conv1D + ReLU` -> `AveragePooling1D (Global)` -> `Dense (sigmoid activation)`"
   ]
  },
  {
   "cell_type": "code",
   "execution_count": 17,
   "id": "1043d6ea",
   "metadata": {},
   "outputs": [
    {
     "name": "stdout",
     "output_type": "stream",
     "text": [
      "Model: \"sequential\"\n",
      "_________________________________________________________________\n",
      " Layer (type)                Output Shape              Param #   \n",
      "=================================================================\n",
      " conv1d (Conv1D)             (None, 1248, 5)           290       \n",
      "                                                                 \n",
      " batch_normalization (BatchN  (None, 1248, 5)          20        \n",
      " ormalization)                                                   \n",
      "                                                                 \n",
      " leaky_re_lu (LeakyReLU)     (None, 1248, 5)           0         \n",
      "                                                                 \n",
      " max_pooling1d (MaxPooling1D  (None, 624, 5)           0         \n",
      " )                                                               \n",
      "                                                                 \n",
      " conv1d_1 (Conv1D)           (None, 622, 5)            80        \n",
      "                                                                 \n",
      " leaky_re_lu_1 (LeakyReLU)   (None, 622, 5)            0         \n",
      "                                                                 \n",
      " max_pooling1d_1 (MaxPooling  (None, 311, 5)           0         \n",
      " 1D)                                                             \n",
      "                                                                 \n",
      " dropout (Dropout)           (None, 311, 5)            0         \n",
      "                                                                 \n",
      " conv1d_2 (Conv1D)           (None, 309, 5)            80        \n",
      "                                                                 \n",
      " leaky_re_lu_2 (LeakyReLU)   (None, 309, 5)            0         \n",
      "                                                                 \n",
      " max_pooling1d_2 (MaxPooling  (None, 154, 5)           0         \n",
      " 1D)                                                             \n",
      "                                                                 \n",
      " dropout_1 (Dropout)         (None, 154, 5)            0         \n",
      "                                                                 \n",
      " conv1d_3 (Conv1D)           (None, 152, 5)            80        \n",
      "                                                                 \n",
      " leaky_re_lu_3 (LeakyReLU)   (None, 152, 5)            0         \n",
      "                                                                 \n",
      " average_pooling1d (AverageP  (None, 76, 5)            0         \n",
      " ooling1D)                                                       \n",
      "                                                                 \n",
      " dropout_2 (Dropout)         (None, 76, 5)             0         \n",
      "                                                                 \n",
      " conv1d_4 (Conv1D)           (None, 74, 5)             80        \n",
      "                                                                 \n",
      " leaky_re_lu_4 (LeakyReLU)   (None, 74, 5)             0         \n",
      "                                                                 \n",
      " average_pooling1d_1 (Averag  (None, 37, 5)            0         \n",
      " ePooling1D)                                                     \n",
      "                                                                 \n",
      " conv1d_5 (Conv1D)           (None, 35, 5)             80        \n",
      "                                                                 \n",
      " leaky_re_lu_5 (LeakyReLU)   (None, 35, 5)             0         \n",
      "                                                                 \n",
      " global_average_pooling1d (G  (None, 5)                0         \n",
      " lobalAveragePooling1D)                                          \n",
      "                                                                 \n",
      " dense (Dense)               (None, 1)                 6         \n",
      "                                                                 \n",
      "=================================================================\n",
      "Total params: 716\n",
      "Trainable params: 706\n",
      "Non-trainable params: 10\n",
      "_________________________________________________________________\n"
     ]
    }
   ],
   "source": [
    "def cnnModel():\n",
    "    clear_session()\n",
    "    model = Sequential()\n",
    "\n",
    "    model.add(Conv1D(filters=5, kernel_size = 3, strides = 1, input_shape = (1250, 19)))\n",
    "    model.add(BatchNormalization())\n",
    "    model.add(LeakyReLU())\n",
    "\n",
    "    model.add(MaxPool1D(pool_size=2, strides=2))\n",
    "\n",
    "    model.add(Conv1D(filters=5, kernel_size = 3, strides = 1))\n",
    "    model.add(LeakyReLU())\n",
    "\n",
    "    model.add(MaxPool1D(pool_size=2, strides=2))\n",
    "    model.add(Dropout(0.5))\n",
    "\n",
    "    model.add(Conv1D(filters=5, kernel_size=3, strides=1))\n",
    "    model.add(LeakyReLU())\n",
    "\n",
    "    model.add(MaxPool1D(pool_size=2, strides=2))\n",
    "    model.add(Dropout(0.5))\n",
    "\n",
    "    model.add(Conv1D(filters=5, kernel_size=3, strides=1))\n",
    "    model.add(LeakyReLU())\n",
    "\n",
    "    model.add(AveragePooling1D(pool_size=2, strides=2))\n",
    "    model.add(Dropout(0.5))\n",
    "\n",
    "    model.add(Conv1D(filters=5, kernel_size=3, strides=1))\n",
    "    model.add(LeakyReLU())\n",
    "\n",
    "    model.add(AveragePooling1D(pool_size=2, strides=2))\n",
    "    \n",
    "    model.add(Conv1D(filters=5, kernel_size=3, strides=1))\n",
    "    model.add(LeakyReLU())\n",
    "\n",
    "    model.add(GlobalAveragePooling1D())\n",
    "\n",
    "    model.add(Dense(1, activation='sigmoid'))\n",
    "\n",
    "    model.compile('adam', loss='binary_crossentropy', metrics=['accuracy'])\n",
    "    \n",
    "    return model\n",
    "\n",
    "model = cnnModel()\n",
    "model.summary()"
   ]
  },
  {
   "cell_type": "markdown",
   "id": "dd6943d4",
   "metadata": {},
   "source": [
    "`k-fold Cross Validation` has been applied for better reading of training data and in an attempt to increase accuracy on testing data. k value has been kept to 5 (default)"
   ]
  },
  {
   "cell_type": "code",
   "execution_count": 21,
   "id": "885a7717",
   "metadata": {},
   "outputs": [],
   "source": [
    "groupKfold = GroupKFold()"
   ]
  },
  {
   "cell_type": "code",
   "execution_count": 23,
   "id": "c4b10115",
   "metadata": {},
   "outputs": [
    {
     "name": "stdout",
     "output_type": "stream",
     "text": [
      "Epoch 1/10\n",
      "115/115 [==============================] - 9s 43ms/step - loss: 0.6536 - accuracy: 0.5968 - val_loss: 0.6744 - val_accuracy: 0.7605\n",
      "Epoch 2/10\n",
      "115/115 [==============================] - 5s 40ms/step - loss: 0.6215 - accuracy: 0.6321 - val_loss: 0.6242 - val_accuracy: 0.7056\n",
      "Epoch 3/10\n",
      "115/115 [==============================] - 4s 39ms/step - loss: 0.5747 - accuracy: 0.7390 - val_loss: 0.5141 - val_accuracy: 0.7735\n",
      "Epoch 4/10\n",
      "115/115 [==============================] - 4s 39ms/step - loss: 0.5018 - accuracy: 0.7972 - val_loss: 0.4993 - val_accuracy: 0.7056\n",
      "Epoch 5/10\n",
      "115/115 [==============================] - 4s 39ms/step - loss: 0.4017 - accuracy: 0.8494 - val_loss: 0.7104 - val_accuracy: 0.7049\n",
      "Epoch 6/10\n",
      "115/115 [==============================] - 4s 35ms/step - loss: 0.3149 - accuracy: 0.8849 - val_loss: 0.7130 - val_accuracy: 0.7021\n",
      "Epoch 7/10\n",
      "115/115 [==============================] - 4s 35ms/step - loss: 0.2516 - accuracy: 0.9126 - val_loss: 0.9206 - val_accuracy: 0.6507\n",
      "Epoch 8/10\n",
      "115/115 [==============================] - 4s 35ms/step - loss: 0.2589 - accuracy: 0.9081 - val_loss: 0.8098 - val_accuracy: 0.6747\n",
      "Epoch 9/10\n",
      "115/115 [==============================] - 4s 34ms/step - loss: 0.2388 - accuracy: 0.9142 - val_loss: 1.0749 - val_accuracy: 0.4846\n",
      "Epoch 10/10\n",
      "115/115 [==============================] - 4s 34ms/step - loss: 0.2068 - accuracy: 0.9295 - val_loss: 1.1800 - val_accuracy: 0.4681\n",
      "46/46 [==============================] - 0s 8ms/step - loss: 1.1800 - accuracy: 0.4681\n",
      "46/46 [==============================] - 0s 8ms/step - loss: 1.1800 - accuracy: 0.4681\n",
      "180/180 [==============================] - 2s 8ms/step - loss: 0.2633 - accuracy: 0.8935\n",
      "180/180 [==============================] - 2s 8ms/step - loss: 0.2633 - accuracy: 0.8935\n",
      "Epoch 1/10\n",
      "115/115 [==============================] - 6s 37ms/step - loss: 0.6825 - accuracy: 0.5465 - val_loss: 0.6756 - val_accuracy: 0.5376\n",
      "Epoch 2/10\n",
      "115/115 [==============================] - 4s 35ms/step - loss: 0.6047 - accuracy: 0.6254 - val_loss: 0.7494 - val_accuracy: 0.5234\n",
      "Epoch 3/10\n",
      "115/115 [==============================] - 4s 35ms/step - loss: 0.4750 - accuracy: 0.7944 - val_loss: 1.1401 - val_accuracy: 0.4990\n",
      "Epoch 4/10\n",
      "115/115 [==============================] - 4s 34ms/step - loss: 0.3573 - accuracy: 0.8498 - val_loss: 1.1004 - val_accuracy: 0.5254\n",
      "Epoch 5/10\n",
      "115/115 [==============================] - 4s 34ms/step - loss: 0.2918 - accuracy: 0.8833 - val_loss: 0.9138 - val_accuracy: 0.5613\n",
      "Epoch 6/10\n",
      "115/115 [==============================] - 4s 35ms/step - loss: 0.2305 - accuracy: 0.9156 - val_loss: 0.9208 - val_accuracy: 0.5741\n",
      "Epoch 7/10\n",
      "115/115 [==============================] - 4s 34ms/step - loss: 0.2300 - accuracy: 0.9189 - val_loss: 0.7681 - val_accuracy: 0.6060\n",
      "Epoch 8/10\n",
      "115/115 [==============================] - 4s 34ms/step - loss: 0.1974 - accuracy: 0.9299 - val_loss: 0.7754 - val_accuracy: 0.6215\n",
      "Epoch 9/10\n",
      "115/115 [==============================] - 4s 35ms/step - loss: 0.1812 - accuracy: 0.9369 - val_loss: 0.7321 - val_accuracy: 0.6297\n",
      "Epoch 10/10\n",
      "115/115 [==============================] - 4s 34ms/step - loss: 0.1678 - accuracy: 0.9427 - val_loss: 0.7744 - val_accuracy: 0.6046\n",
      "47/47 [==============================] - 0s 8ms/step - loss: 0.7744 - accuracy: 0.6046\n",
      "47/47 [==============================] - 0s 8ms/step - loss: 0.7744 - accuracy: 0.6046\n",
      "179/179 [==============================] - 2s 8ms/step - loss: 0.2800 - accuracy: 0.8691\n",
      "179/179 [==============================] - 2s 10ms/step - loss: 0.2800 - accuracy: 0.8691\n",
      "Epoch 1/10\n",
      "119/119 [==============================] - 7s 41ms/step - loss: 0.6572 - accuracy: 0.5521 - val_loss: 0.6808 - val_accuracy: 0.6445\n",
      "Epoch 2/10\n",
      "119/119 [==============================] - 4s 35ms/step - loss: 0.5577 - accuracy: 0.7354 - val_loss: 0.7267 - val_accuracy: 0.5896\n",
      "Epoch 3/10\n",
      "119/119 [==============================] - 4s 36ms/step - loss: 0.4552 - accuracy: 0.7921 - val_loss: 0.7467 - val_accuracy: 0.6074\n",
      "Epoch 4/10\n",
      "119/119 [==============================] - 4s 36ms/step - loss: 0.3919 - accuracy: 0.8299 - val_loss: 0.6581 - val_accuracy: 0.7937\n",
      "Epoch 5/10\n",
      "119/119 [==============================] - 4s 36ms/step - loss: 0.3693 - accuracy: 0.8487 - val_loss: 0.7098 - val_accuracy: 0.7875\n",
      "Epoch 6/10\n",
      "119/119 [==============================] - 4s 35ms/step - loss: 0.3365 - accuracy: 0.8625 - val_loss: 0.7212 - val_accuracy: 0.8130\n",
      "Epoch 7/10\n",
      "119/119 [==============================] - 4s 35ms/step - loss: 0.3094 - accuracy: 0.8773 - val_loss: 0.7505 - val_accuracy: 0.8199\n",
      "Epoch 8/10\n",
      "119/119 [==============================] - 4s 35ms/step - loss: 0.2897 - accuracy: 0.8842 - val_loss: 0.7588 - val_accuracy: 0.8679\n",
      "Epoch 9/10\n",
      "119/119 [==============================] - 4s 36ms/step - loss: 0.2780 - accuracy: 0.8932 - val_loss: 1.0054 - val_accuracy: 0.7442\n",
      "Epoch 10/10\n",
      "119/119 [==============================] - 4s 36ms/step - loss: 0.2844 - accuracy: 0.8932 - val_loss: 0.7789 - val_accuracy: 0.8470\n",
      "41/41 [==============================] - 0s 9ms/step - loss: 0.7789 - accuracy: 0.8470\n",
      "41/41 [==============================] - 0s 9ms/step - loss: 0.7789 - accuracy: 0.8470\n",
      "185/185 [==============================] - 2s 8ms/step - loss: 0.2570 - accuracy: 0.9331\n",
      "185/185 [==============================] - 2s 8ms/step - loss: 0.2570 - accuracy: 0.9331\n",
      "Epoch 1/10\n",
      "115/115 [==============================] - 7s 45ms/step - loss: 0.6566 - accuracy: 0.5609 - val_loss: 0.6955 - val_accuracy: 0.4479\n",
      "Epoch 2/10\n",
      "115/115 [==============================] - 4s 37ms/step - loss: 0.5771 - accuracy: 0.7013 - val_loss: 0.7363 - val_accuracy: 0.4755\n",
      "Epoch 3/10\n",
      "115/115 [==============================] - 4s 35ms/step - loss: 0.4640 - accuracy: 0.7986 - val_loss: 0.7645 - val_accuracy: 0.4835\n",
      "Epoch 4/10\n",
      "115/115 [==============================] - 4s 35ms/step - loss: 0.3856 - accuracy: 0.8434 - val_loss: 0.5048 - val_accuracy: 0.7128\n",
      "Epoch 5/10\n",
      "115/115 [==============================] - 4s 38ms/step - loss: 0.3592 - accuracy: 0.8563 - val_loss: 0.4863 - val_accuracy: 0.7303\n",
      "Epoch 6/10\n",
      "115/115 [==============================] - 4s 36ms/step - loss: 0.3373 - accuracy: 0.8687 - val_loss: 0.6245 - val_accuracy: 0.5434\n",
      "Epoch 7/10\n",
      "115/115 [==============================] - 4s 39ms/step - loss: 0.3129 - accuracy: 0.8749 - val_loss: 0.4625 - val_accuracy: 0.7902\n",
      "Epoch 8/10\n",
      "115/115 [==============================] - 4s 36ms/step - loss: 0.3102 - accuracy: 0.8775 - val_loss: 0.5311 - val_accuracy: 0.6604\n",
      "Epoch 9/10\n",
      "115/115 [==============================] - 4s 35ms/step - loss: 0.3026 - accuracy: 0.8808 - val_loss: 0.3599 - val_accuracy: 0.9025\n",
      "Epoch 10/10\n",
      "115/115 [==============================] - 4s 35ms/step - loss: 0.2948 - accuracy: 0.8936 - val_loss: 0.3777 - val_accuracy: 0.8937\n",
      "47/47 [==============================] - 0s 9ms/step - loss: 0.3777 - accuracy: 0.8937\n",
      "47/47 [==============================] - 0s 8ms/step - loss: 0.3777 - accuracy: 0.8937\n",
      "179/179 [==============================] - 1s 8ms/step - loss: 0.2639 - accuracy: 0.9359\n",
      "179/179 [==============================] - 2s 9ms/step - loss: 0.2639 - accuracy: 0.9359\n",
      "Epoch 1/10\n",
      "115/115 [==============================] - 7s 42ms/step - loss: 0.6574 - accuracy: 0.5878 - val_loss: 0.7223 - val_accuracy: 0.3466\n",
      "Epoch 2/10\n",
      "115/115 [==============================] - 4s 38ms/step - loss: 0.5519 - accuracy: 0.7479 - val_loss: 0.6828 - val_accuracy: 0.5222\n",
      "Epoch 3/10\n",
      "115/115 [==============================] - 5s 39ms/step - loss: 0.4437 - accuracy: 0.8084 - val_loss: 0.6281 - val_accuracy: 0.6844\n",
      "Epoch 4/10\n",
      "115/115 [==============================] - 4s 38ms/step - loss: 0.3906 - accuracy: 0.8395 - val_loss: 0.6012 - val_accuracy: 0.7685\n",
      "Epoch 5/10\n",
      "115/115 [==============================] - 4s 36ms/step - loss: 0.3431 - accuracy: 0.8602 - val_loss: 0.6156 - val_accuracy: 0.7335\n",
      "Epoch 6/10\n",
      "115/115 [==============================] - 4s 35ms/step - loss: 0.3011 - accuracy: 0.8868 - val_loss: 0.6032 - val_accuracy: 0.8096\n",
      "Epoch 7/10\n",
      "115/115 [==============================] - 4s 37ms/step - loss: 0.2954 - accuracy: 0.8954 - val_loss: 0.6303 - val_accuracy: 0.7746\n",
      "Epoch 8/10\n",
      "115/115 [==============================] - 4s 36ms/step - loss: 0.2801 - accuracy: 0.8950 - val_loss: 0.6064 - val_accuracy: 0.8082\n",
      "Epoch 9/10\n",
      "115/115 [==============================] - 4s 36ms/step - loss: 0.2923 - accuracy: 0.8996 - val_loss: 0.5700 - val_accuracy: 0.8102\n",
      "Epoch 10/10\n",
      "115/115 [==============================] - 4s 36ms/step - loss: 0.2675 - accuracy: 0.9046 - val_loss: 0.6452 - val_accuracy: 0.7725\n",
      "47/47 [==============================] - 0s 8ms/step - loss: 0.6452 - accuracy: 0.7725\n",
      "47/47 [==============================] - 0s 8ms/step - loss: 0.6452 - accuracy: 0.7725\n",
      "179/179 [==============================] - 2s 9ms/step - loss: 0.4712 - accuracy: 0.7710\n",
      "179/179 [==============================] - 2s 9ms/step - loss: 0.4712 - accuracy: 0.7710\n"
     ]
    }
   ],
   "source": [
    "train_accuracy = []\n",
    "train_loss = []\n",
    "\n",
    "val_accuracy = []\n",
    "val_loss = []\n",
    "\n",
    "for train_index, val_index in groupKfold.split(data_list, label_list, groups = groups_array):\n",
    "    train_features, train_labels = data_list[train_index], label_list[train_index]\n",
    "    val_features, val_labels = data_list[val_index], label_list[val_index]\n",
    "    scaler = StandardScaler()\n",
    "    train_features = scaler.fit_transform(train_features.reshape(-1, train_features.shape[-1])).reshape(train_features.shape)\n",
    "    val_features = scaler.transform(val_features.reshape(-1, val_features.shape[-1])).reshape(val_features.shape)\n",
    "\n",
    "    model = cnnModel()\n",
    "    model.fit(train_features, train_labels, epochs=10, batch_size=50, validation_data=(val_features, val_labels))\n",
    "    val_accuracy.append(model.evaluate(val_features, val_labels)[1])\n",
    "    val_loss.append(model.evaluate(val_features, val_labels)[0])\n",
    "    train_accuracy.append(model.evaluate(train_features, train_labels)[1])\n",
    "    train_loss.append(model.evaluate(train_features, train_labels)[0])"
   ]
  },
  {
   "cell_type": "code",
   "execution_count": 33,
   "id": "e54958c1",
   "metadata": {},
   "outputs": [
    {
     "data": {
      "text/plain": [
       "((5744, 1250, 19), (1457, 1250, 19))"
      ]
     },
     "execution_count": 33,
     "metadata": {},
     "output_type": "execute_result"
    }
   ],
   "source": [
    "train_features.shape, val_features.shape"
   ]
  },
  {
   "cell_type": "markdown",
   "id": "cff05880",
   "metadata": {},
   "source": [
    "Validation accuracy over 5 folds - 46.8%, 60.46%, 84.69%, 89.37%, 77.25%. As observed, peak validation accuracy is obtained in the 4th fold."
   ]
  },
  {
   "cell_type": "code",
   "execution_count": 24,
   "id": "76fd8ea4",
   "metadata": {},
   "outputs": [
    {
     "data": {
      "text/plain": [
       "[0.4680851101875305,\n",
       " 0.6046039462089539,\n",
       " 0.8469861149787903,\n",
       " 0.8937457799911499,\n",
       " 0.772543728351593]"
      ]
     },
     "execution_count": 24,
     "metadata": {},
     "output_type": "execute_result"
    }
   ],
   "source": [
    "val_accuracy"
   ]
  },
  {
   "cell_type": "markdown",
   "id": "53074e54",
   "metadata": {},
   "source": [
    "Mean validation accuracy obtained - 71.72%"
   ]
  },
  {
   "cell_type": "code",
   "execution_count": 25,
   "id": "e9ebfb2f",
   "metadata": {},
   "outputs": [
    {
     "data": {
      "text/plain": [
       "0.7171929359436036"
      ]
     },
     "execution_count": 25,
     "metadata": {},
     "output_type": "execute_result"
    }
   ],
   "source": [
    "np.mean(val_accuracy)"
   ]
  },
  {
   "cell_type": "markdown",
   "id": "c326d6b2",
   "metadata": {},
   "source": [
    "## Plotting of training and validation accuracy and loss with respect to the number of folds - Sayanteka Saha - 21051681"
   ]
  },
  {
   "cell_type": "code",
   "execution_count": 40,
   "id": "3aeedd0b",
   "metadata": {},
   "outputs": [
    {
     "data": {
      "image/png": "[encoded data removed]",
      "text/plain": [
       "<Figure size 640x480 with 1 Axes>"
      ]
     },
     "metadata": {},
     "output_type": "display_data"
    },
    {
     "data": {
      "image/png": "[encoded data removed]",
      "text/plain": [
       "<Figure size 640x480 with 1 Axes>"
      ]
     },
     "metadata": {},
     "output_type": "display_data"
    }
   ],
   "source": [
    "plt.plot([1, 2, 3, 4, 5], train_accuracy)\n",
    "plt.plot([1, 2, 3, 4, 5], val_accuracy)\n",
    "plt.xticks((1, 2, 3, 4, 5))\n",
    "plt.title('Model Accuracy')\n",
    "plt.ylabel('Accuracy')\n",
    "plt.xlabel('Fold')\n",
    "plt.legend(['Train', 'Validation'], loc='upper left')\n",
    "plt.show()\n",
    "# summarize history for loss\n",
    "plt.plot([1, 2, 3, 4, 5], train_loss)\n",
    "plt.plot([1, 2, 3, 4, 5], val_loss)\n",
    "plt.xticks((1, 2, 3, 4, 5))\n",
    "plt.title('Model loss')\n",
    "plt.ylabel('Loss')\n",
    "plt.xlabel('Fold')\n",
    "plt.legend(['Train', 'Validation'], loc='upper left')\n",
    "plt.show()"
   ]
  },
  {
   "cell_type": "markdown",
   "id": "a01f0009",
   "metadata": {},
   "source": [
    "# End of file. Thank You!"
   ]
  }
 ],
 "metadata": {
  "kernelspec": {
   "display_name": "Python 3 (ipykernel)",
   "language": "python",
   "name": "python3"
  },
  "language_info": {
   "codemirror_mode": {
    "name": "ipython",
    "version": 3
   },
   "file_extension": ".py",
   "mimetype": "text/x-python",
   "name": "python",
   "nbconvert_exporter": "python",
   "pygments_lexer": "ipython3",
   "version": "3.10.6"
  }
 },
 "nbformat": 4,
 "nbformat_minor": 5
}
